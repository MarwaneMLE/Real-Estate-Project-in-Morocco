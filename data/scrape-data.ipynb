{
 "cells": [
  {
   "cell_type": "code",
   "execution_count": 1,
   "id": "c3b2c4bc",
   "metadata": {},
   "outputs": [],
   "source": [
    "from bs4 import BeautifulSoup\n",
    "import requests\n",
    "import time\n"
   ]
  },
  {
   "cell_type": "code",
   "execution_count": 2,
   "id": "39d316ef",
   "metadata": {},
   "outputs": [],
   "source": [
    "url = \"https://agenz.ma/\" #_linksParent_7qwn0_49\n",
    "response = requests.get(url)\n",
    "soup = BeautifulSoup(response.content, \"html.parser\")\n"
   ]
  },
  {
   "cell_type": "code",
   "execution_count": null,
   "id": "d0d1aefd",
   "metadata": {},
   "outputs": [],
   "source": []
  },
  {
   "cell_type": "code",
   "execution_count": 3,
   "id": "6fde6e8d",
   "metadata": {},
   "outputs": [],
   "source": [
    "real_state = soup.find_all(\"div\", \"_linksParent_7qwn0_49\")"
   ]
  },
  {
   "cell_type": "code",
   "execution_count": 4,
   "id": "dd2c9c4d",
   "metadata": {},
   "outputs": [
    {
     "data": {
      "text/plain": [
       "'https://agenz.ma//fr/acheter/immo-casablanca/vente-appartements'"
      ]
     },
     "execution_count": 4,
     "metadata": {},
     "output_type": "execute_result"
    }
   ],
   "source": [
    "cities = real_state[0].find_all(\"div\", \"_links_7qwn0_42\")\n",
    " \n",
    "link = \"https://agenz.ma/\" + cities[0].find(\"a\")['href']\n",
    "link"
   ]
  },
  {
   "cell_type": "code",
   "execution_count": 5,
   "id": "50f1b69f",
   "metadata": {},
   "outputs": [
    {
     "data": {
      "text/plain": [
       "91"
      ]
     },
     "execution_count": 5,
     "metadata": {},
     "output_type": "execute_result"
    }
   ],
   "source": [
    "cities_property_link = []\n",
    "for j in range(len(real_state)):    \n",
    "    cities = real_state[j].find_all(\"div\", \"_links_7qwn0_42\")\n",
    "    for i in range(len(cities)):\n",
    "        link = \"https://agenz.ma/\" + cities[i].find(\"a\")['href']\n",
    "        cities_property_link.append(link)\n",
    "\n",
    "len(cities_property_link)"
   ]
  },
  {
   "cell_type": "code",
   "execution_count": 6,
   "id": "9a2a5001",
   "metadata": {},
   "outputs": [
    {
     "data": {
      "text/plain": [
       "'https://agenz.ma//fr/acheter/immo-casablanca/vente-appartements'"
      ]
     },
     "execution_count": 6,
     "metadata": {},
     "output_type": "execute_result"
    }
   ],
   "source": [
    "cities_property_link[0]"
   ]
  },
  {
   "cell_type": "code",
   "execution_count": 7,
   "id": "5263c868",
   "metadata": {},
   "outputs": [],
   "source": [
    "city_url = cities_property_link[0]\n",
    "resp = requests.get(city_url)\n",
    "bs = BeautifulSoup(resp.content, \"html.parser\")"
   ]
  },
  {
   "cell_type": "code",
   "execution_count": 9,
   "id": "5e33ab44",
   "metadata": {},
   "outputs": [
    {
     "ename": "TypeError",
     "evalue": "'module' object is not callable",
     "output_type": "error",
     "traceback": [
      "\u001b[31m---------------------------------------------------------------------------\u001b[39m",
      "\u001b[31mTypeError\u001b[39m                                 Traceback (most recent call last)",
      "\u001b[36mCell\u001b[39m\u001b[36m \u001b[39m\u001b[32mIn[9]\u001b[39m\u001b[32m, line 3\u001b[39m\n\u001b[32m      1\u001b[39m \u001b[38;5;28;01mfor\u001b[39;00m page \u001b[38;5;129;01min\u001b[39;00m \u001b[38;5;28mrange\u001b[39m(\u001b[32m1\u001b[39m, \u001b[32m59\u001b[39m):\n\u001b[32m      2\u001b[39m     url_page = \u001b[33mf\u001b[39m\u001b[33m\"\u001b[39m\u001b[33mhttps://agenz.ma/fr/list.htm?type=appartement&province=casablanca&zoom=4&lat=-7.635011078156706&lng=33.56108801291275&transaction_type=vente&page=\u001b[39m\u001b[38;5;132;01m{\u001b[39;00mpage\u001b[38;5;132;01m}\u001b[39;00m\u001b[33m\"\u001b[39m\n\u001b[32m----> \u001b[39m\u001b[32m3\u001b[39m     response_page = \u001b[43mrequests\u001b[49m\u001b[43m(\u001b[49m\u001b[43murl_page\u001b[49m\u001b[43m,\u001b[49m\u001b[43m \u001b[49m\u001b[33;43m\"\u001b[39;49m\u001b[33;43mhtml.parser\u001b[39;49m\u001b[33;43m\"\u001b[39;49m\u001b[43m)\u001b[49m\n\u001b[32m      4\u001b[39m     \u001b[38;5;66;03m#bs_page = \u001b[39;00m\n",
      "\u001b[31mTypeError\u001b[39m: 'module' object is not callable"
     ]
    }
   ],
   "source": [
    "for page in range(1, 59):\n",
    "    url_page = f\"https://agenz.ma/fr/list.htm?type=appartement&province=casablanca&zoom=4&lat=-7.635011078156706&lng=33.56108801291275&transaction_type=vente&page={page}\"\n",
    "    response_page = requests(url_page, \"html.parser\")\n",
    "    #bs_page = "
   ]
  },
  {
   "cell_type": "code",
   "execution_count": 10,
   "id": "1e926912",
   "metadata": {},
   "outputs": [
    {
     "data": {
      "text/plain": [
       "25"
      ]
     },
     "execution_count": 10,
     "metadata": {},
     "output_type": "execute_result"
    }
   ],
   "source": [
    "cards = bs.find_all(\"div\", \"_listingCard_1k4wq_1\")\n",
    "len(cards)"
   ]
  },
  {
   "cell_type": "code",
   "execution_count": 11,
   "id": "ffa4ce7b",
   "metadata": {},
   "outputs": [
    {
     "data": {
      "text/plain": [
       "['https://agenz.ma/fr/annonces/immo-casablanca/vente-appartements/racine/627614',\n",
       " 'https://agenz.ma/fr/annonces/immo-casablanca/vente-appartements/val-fleurie/524201',\n",
       " 'https://agenz.ma/fr/annonces/immo-casablanca/vente-appartements/bir-anzarane/849763',\n",
       " 'https://agenz.ma/fr/annonces/immo-casablanca/vente-appartements/plateau/252525',\n",
       " 'https://agenz.ma/fr/annonces/immo-casablanca/vente-appartements/farah-essalam/976317',\n",
       " 'https://agenz.ma/fr/annonces/immo-casablanca/vente-appartements/racine/381559',\n",
       " 'https://agenz.ma/fr/annonces/immo-casablanca/vente-appartements/oulfa/661446',\n",
       " 'https://agenz.ma/fr/annonces/immo-casablanca/vente-appartements/racine/846665',\n",
       " 'https://agenz.ma/fr/annonces/immo-casablanca/vente-appartements/bourgogne-est/166567',\n",
       " 'https://agenz.ma/fr/annonces/immo-casablanca/vente-appartements/racine/762671',\n",
       " 'https://agenz.ma/fr/annonces/immo-casablanca/vente-appartements/les-princesses/281145',\n",
       " 'https://agenz.ma/fr/annonces/immo-casablanca/vente-appartements/gauthier/242167',\n",
       " 'https://agenz.ma/fr/annonces/immo-casablanca/vente-appartements/el-manar-el-hank/615800',\n",
       " 'https://agenz.ma/fr/annonces/immo-casablanca/vente-appartements/oasis/705790',\n",
       " 'https://agenz.ma/fr/annonces/immo-casablanca/vente-appartements/ain-borja/645969',\n",
       " 'https://agenz.ma/fr/annonces/immo-casablanca/vente-appartements/bd-abdelmoumen/298488',\n",
       " 'https://agenz.ma/fr/annonces/immo-casablanca/vente-appartements/bourgogne-ouest/77321',\n",
       " 'https://agenz.ma/fr/annonces/immo-casablanca/vente-appartements/bd-abdelmoumen/68255',\n",
       " 'https://agenz.ma/fr/annonces/immo-casablanca/vente-appartements/maarif-extension/84125',\n",
       " 'https://agenz.ma/fr/annonces/immo-casablanca/vente-appartements/al-mostakbal/444785',\n",
       " 'https://agenz.ma/fr/annonces/immo-casablanca/vente-appartements/bd-abdelmoumen/771520',\n",
       " 'https://agenz.ma/fr/annonces/immo-casablanca/vente-appartements/les-hopitaux/540675',\n",
       " 'https://agenz.ma/fr/annonces/immo-casablanca/vente-appartements/almaz/26305',\n",
       " 'https://agenz.ma/fr/annonces/immo-casablanca/vente-appartements/roches-noires/155727',\n",
       " 'https://agenz.ma/fr/annonces/immo-casablanca/vente-appartements/les-princesses/731900']"
      ]
     },
     "execution_count": 11,
     "metadata": {},
     "output_type": "execute_result"
    }
   ],
   "source": [
    "property_link = []\n",
    "for i in range(len(cards)):\n",
    "    link = \"https://agenz.ma\" + cards[i].find(\"div\", \"_address_1qcbr_177\").find(\"a\")[\"href\"]\n",
    "    property_link.append(link)\n",
    "\n",
    "property_link"
   ]
  },
  {
   "cell_type": "code",
   "execution_count": 13,
   "id": "d76b1c6c",
   "metadata": {},
   "outputs": [
    {
     "data": {
      "text/plain": [
       "25"
      ]
     },
     "execution_count": 13,
     "metadata": {},
     "output_type": "execute_result"
    }
   ],
   "source": [
    "property_links = []\n",
    "for i in range(len(cities_property_link[0:1])):\n",
    "    city_url = cities_property_link[i]\n",
    "    time.sleep(5)\n",
    "    resp = requests.get(city_url)\n",
    "    bs = BeautifulSoup(resp.content, \"html.parser\")\n",
    "    cards = bs.find_all(\"div\", \"_listingCard_1k4wq_1\") \n",
    "    for j in range(len(cards)):\n",
    "        link = \"https://agenz.ma\" + cards[j].find(\"div\", \"_address_1qcbr_177\").find(\"a\")[\"href\"]\n",
    "        property_links.append(link) \n",
    "\n",
    "len(property_links)"
   ]
  },
  {
   "cell_type": "code",
   "execution_count": 14,
   "id": "500e1e01",
   "metadata": {},
   "outputs": [
    {
     "data": {
      "text/plain": [
       "['https://agenz.ma/fr/annonces/immo-casablanca/vente-appartements/racine/627614',\n",
       " 'https://agenz.ma/fr/annonces/immo-casablanca/vente-appartements/val-fleurie/524201',\n",
       " 'https://agenz.ma/fr/annonces/immo-casablanca/vente-appartements/bir-anzarane/849763',\n",
       " 'https://agenz.ma/fr/annonces/immo-casablanca/vente-appartements/plateau/252525',\n",
       " 'https://agenz.ma/fr/annonces/immo-casablanca/vente-appartements/farah-essalam/976317',\n",
       " 'https://agenz.ma/fr/annonces/immo-casablanca/vente-appartements/racine/381559',\n",
       " 'https://agenz.ma/fr/annonces/immo-casablanca/vente-appartements/oulfa/661446',\n",
       " 'https://agenz.ma/fr/annonces/immo-casablanca/vente-appartements/racine/846665',\n",
       " 'https://agenz.ma/fr/annonces/immo-casablanca/vente-appartements/bourgogne-est/166567',\n",
       " 'https://agenz.ma/fr/annonces/immo-casablanca/vente-appartements/racine/762671',\n",
       " 'https://agenz.ma/fr/annonces/immo-casablanca/vente-appartements/les-princesses/281145',\n",
       " 'https://agenz.ma/fr/annonces/immo-casablanca/vente-appartements/gauthier/242167',\n",
       " 'https://agenz.ma/fr/annonces/immo-casablanca/vente-appartements/el-manar-el-hank/615800',\n",
       " 'https://agenz.ma/fr/annonces/immo-casablanca/vente-appartements/oasis/705790',\n",
       " 'https://agenz.ma/fr/annonces/immo-casablanca/vente-appartements/ain-borja/645969',\n",
       " 'https://agenz.ma/fr/annonces/immo-casablanca/vente-appartements/bd-abdelmoumen/298488',\n",
       " 'https://agenz.ma/fr/annonces/immo-casablanca/vente-appartements/bourgogne-ouest/77321',\n",
       " 'https://agenz.ma/fr/annonces/immo-casablanca/vente-appartements/bd-abdelmoumen/68255',\n",
       " 'https://agenz.ma/fr/annonces/immo-casablanca/vente-appartements/maarif-extension/84125',\n",
       " 'https://agenz.ma/fr/annonces/immo-casablanca/vente-appartements/al-mostakbal/444785',\n",
       " 'https://agenz.ma/fr/annonces/immo-casablanca/vente-appartements/bd-abdelmoumen/771520',\n",
       " 'https://agenz.ma/fr/annonces/immo-casablanca/vente-appartements/les-hopitaux/540675',\n",
       " 'https://agenz.ma/fr/annonces/immo-casablanca/vente-appartements/almaz/26305',\n",
       " 'https://agenz.ma/fr/annonces/immo-casablanca/vente-appartements/roches-noires/155727',\n",
       " 'https://agenz.ma/fr/annonces/immo-casablanca/vente-appartements/les-princesses/731900']"
      ]
     },
     "execution_count": 14,
     "metadata": {},
     "output_type": "execute_result"
    }
   ],
   "source": [
    "property_links"
   ]
  },
  {
   "cell_type": "code",
   "execution_count": 109,
   "id": "dcef5fd4",
   "metadata": {},
   "outputs": [],
   "source": [
    "property_link = property_links[2]\n",
    "res = requests.get(property_link)\n",
    "bsoup = BeautifulSoup(res.content, \"html.parser\")"
   ]
  },
  {
   "cell_type": "code",
   "execution_count": 110,
   "id": "a034d442",
   "metadata": {},
   "outputs": [
    {
     "data": {
      "text/plain": [
       "['   Avant   7 500 000  DH     Prix Actuel  7 000 000   DH     ',\n",
       " '  Avant   7 500 000  DH     Prix Actuel  7 000 000   DH    ',\n",
       " ' Avant   7 500 000  DH   ',\n",
       " ' Prix Actuel  7 000 000   DH   ',\n",
       " 'Casablanca – Bir Anzarane',\n",
       " '    Réf. CMN-MA-1854   ',\n",
       " '',\n",
       " '  Réf. CMN-MA-1854  ']"
      ]
     },
     "execution_count": 110,
     "metadata": {},
     "output_type": "execute_result"
    }
   ],
   "source": [
    "infos = bsoup.find(\"div\", \"_annonceDetailsContainer_1qtfl_43\")\n",
    "card = bsoup.find(\"div\", \"_prixTypoContainer_87b3i_29\")\n",
    "prepoty_infos = card.find_all(\"div\")\n",
    "[info.text for info in prepoty_infos]"
   ]
  },
  {
   "cell_type": "code",
   "execution_count": 111,
   "id": "f992c6b8",
   "metadata": {},
   "outputs": [
    {
     "data": {
      "text/plain": [
       "['  Appartement ',\n",
       " '   2  chambres simples ',\n",
       " '  Chambre de service ',\n",
       " '   2 suite parentale ',\n",
       " '  3  Salles de bains ',\n",
       " '  416  m2   ',\n",
       " '  Ascenseur ',\n",
       " '   étage 1  sur 6  ',\n",
       " '  1  appartement par palier ',\n",
       " '  Ancienneté de la construction :  Plus de 20 ans ',\n",
       " '  État du bien :  Correct ',\n",
       " '  Résidence sécurisée ',\n",
       " '   Parking titré : 1 place ',\n",
       " '   Sud-Est ',\n",
       " '  Sans vis-à-vis ']"
      ]
     },
     "execution_count": 111,
     "metadata": {},
     "output_type": "execute_result"
    }
   ],
   "source": [
    "characts = bsoup.find(\"div\", \"_characterContent_1elh5_11\")\n",
    "[info.text for info in characts.find_all(\"span\")]"
   ]
  },
  {
   "cell_type": "code",
   "execution_count": null,
   "id": "a23c7f02",
   "metadata": {},
   "outputs": [],
   "source": [
    "#syndic = bsoup.find(\"div\", \"_syndicItem_boghm_7\").text\n",
    "#property_id = bsoup.find(\"div\", \"_adressRefContainer_boghm_20\").text"
   ]
  },
  {
   "cell_type": "code",
   "execution_count": null,
   "id": "6e2aff87",
   "metadata": {},
   "outputs": [
    {
     "data": {
      "text/plain": [
       "['  Appartement ',\n",
       " '   2  chambres simples ',\n",
       " '   1 suite parentale ',\n",
       " '  2  Salles de bains ',\n",
       " '  168  m2   ',\n",
       " '  Ascenseur ',\n",
       " '   étage 3  sur 5  ',\n",
       " '  2  appartements par palier ',\n",
       " '  Ancienneté de la construction :  Entre 11 et 20 ans ',\n",
       " '  État du bien :  Refait à neuf ',\n",
       " '   Parking non titré : 1 place ',\n",
       " '  Balcon de  5 m2 ',\n",
       " '   Nord ']"
      ]
     },
     "execution_count": 52,
     "metadata": {},
     "output_type": "execute_result"
    }
   ],
   "source": []
  },
  {
   "cell_type": "code",
   "execution_count": null,
   "id": "13af1ee9",
   "metadata": {},
   "outputs": [],
   "source": []
  }
 ],
 "metadata": {
  "kernelspec": {
   "display_name": "env",
   "language": "python",
   "name": "python3"
  },
  "language_info": {
   "codemirror_mode": {
    "name": "ipython",
    "version": 3
   },
   "file_extension": ".py",
   "mimetype": "text/x-python",
   "name": "python",
   "nbconvert_exporter": "python",
   "pygments_lexer": "ipython3",
   "version": "3.12.7"
  }
 },
 "nbformat": 4,
 "nbformat_minor": 5
}
