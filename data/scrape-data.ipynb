{
 "cells": [
  {
   "cell_type": "code",
   "execution_count": 55,
   "id": "c3b2c4bc",
   "metadata": {},
   "outputs": [],
   "source": [
    "from bs4 import BeautifulSoup\n",
    "import requests\n",
    "import time\n"
   ]
  },
  {
   "cell_type": "code",
   "execution_count": null,
   "id": "39d316ef",
   "metadata": {},
   "outputs": [],
   "source": [
    "url = \"https://agenz.ma/\" #_linksParent_7qwn0_49\n",
    "response = requests.get(url)\n",
    "soup = BeautifulSoup(response.content, \"html.parser\")\n"
   ]
  },
  {
   "cell_type": "code",
   "execution_count": null,
   "id": "d0d1aefd",
   "metadata": {},
   "outputs": [],
   "source": []
  },
  {
   "cell_type": "code",
   "execution_count": 27,
   "id": "6fde6e8d",
   "metadata": {},
   "outputs": [],
   "source": [
    "real_state = soup.find_all(\"div\", \"_linksParent_7qwn0_49\")"
   ]
  },
  {
   "cell_type": "code",
   "execution_count": null,
   "id": "dd2c9c4d",
   "metadata": {},
   "outputs": [
    {
     "data": {
      "text/plain": [
       "'https://agenz.ma//fr/acheter/immo-casablanca/vente-appartements'"
      ]
     },
     "execution_count": 33,
     "metadata": {},
     "output_type": "execute_result"
    }
   ],
   "source": [
    "cities = real_state[0].find_all(\"div\", \"_links_7qwn0_42\")\n",
    " \n",
    "link = \"https://agenz.ma/\" + cities[0].find(\"a\")['href']\n",
    "link"
   ]
  },
  {
   "cell_type": "code",
   "execution_count": 36,
   "id": "50f1b69f",
   "metadata": {},
   "outputs": [
    {
     "data": {
      "text/plain": [
       "91"
      ]
     },
     "execution_count": 36,
     "metadata": {},
     "output_type": "execute_result"
    }
   ],
   "source": [
    "cities_property_link = []\n",
    "for j in range(len(real_state)):    \n",
    "    cities = real_state[j].find_all(\"div\", \"_links_7qwn0_42\")\n",
    "    for i in range(len(cities)):\n",
    "        link = \"https://agenz.ma/\" + cities[i].find(\"a\")['href']\n",
    "        cities_property_link.append(link)\n",
    "\n",
    "len(cities_property_link)"
   ]
  },
  {
   "cell_type": "code",
   "execution_count": 38,
   "id": "9a2a5001",
   "metadata": {},
   "outputs": [
    {
     "data": {
      "text/plain": [
       "'https://agenz.ma//fr/acheter/immo-casablanca/vente-appartements'"
      ]
     },
     "execution_count": 38,
     "metadata": {},
     "output_type": "execute_result"
    }
   ],
   "source": [
    "cities_property_link[0]"
   ]
  },
  {
   "cell_type": "code",
   "execution_count": 52,
   "id": "5263c868",
   "metadata": {},
   "outputs": [],
   "source": [
    "city_url = cities_property_link[0]\n",
    "resp = requests.get(city_url)\n",
    "bs = BeautifulSoup(resp.content, \"html.parser\")"
   ]
  },
  {
   "cell_type": "code",
   "execution_count": null,
   "id": "5e33ab44",
   "metadata": {},
   "outputs": [],
   "source": [
    "for page in range(1, 59):\n",
    "    url_page = f\"https://agenz.ma/fr/list.htm?type=appartement&province=casablanca&zoom=4&lat=-7.635011078156706&lng=33.56108801291275&transaction_type=vente&page={page}\"\n",
    "    response_page = requests(url_page, \"html.parser\")\n",
    "    bs_page = "
   ]
  },
  {
   "cell_type": "code",
   "execution_count": 53,
   "id": "1e926912",
   "metadata": {},
   "outputs": [
    {
     "data": {
      "text/plain": [
       "25"
      ]
     },
     "execution_count": 53,
     "metadata": {},
     "output_type": "execute_result"
    }
   ],
   "source": [
    "cards = bs.find_all(\"div\", \"_listingCard_1k4wq_1\")\n",
    "len(cards)"
   ]
  },
  {
   "cell_type": "code",
   "execution_count": 54,
   "id": "ffa4ce7b",
   "metadata": {},
   "outputs": [
    {
     "data": {
      "text/plain": [
       "['https://agenz.ma/fr/annonces/immo-casablanca/vente-appartements/bir-anzarane/849763',\n",
       " 'https://agenz.ma/fr/annonces/immo-casablanca/vente-appartements/plateau/252525',\n",
       " 'https://agenz.ma/fr/annonces/immo-casablanca/vente-appartements/farah-essalam/976317',\n",
       " 'https://agenz.ma/fr/annonces/immo-casablanca/vente-appartements/racine/381559',\n",
       " 'https://agenz.ma/fr/annonces/immo-casablanca/vente-appartements/oulfa/661446',\n",
       " 'https://agenz.ma/fr/annonces/immo-casablanca/vente-appartements/racine/846665',\n",
       " 'https://agenz.ma/fr/annonces/immo-casablanca/vente-appartements/bourgogne-est/166567',\n",
       " 'https://agenz.ma/fr/annonces/immo-casablanca/vente-appartements/racine/762671',\n",
       " 'https://agenz.ma/fr/annonces/immo-casablanca/vente-appartements/les-princesses/281145',\n",
       " 'https://agenz.ma/fr/annonces/immo-casablanca/vente-appartements/gauthier/242167',\n",
       " 'https://agenz.ma/fr/annonces/immo-casablanca/vente-appartements/el-manar-el-hank/615800',\n",
       " 'https://agenz.ma/fr/annonces/immo-casablanca/vente-appartements/oasis/705790',\n",
       " 'https://agenz.ma/fr/annonces/immo-casablanca/vente-appartements/ain-borja/645969',\n",
       " 'https://agenz.ma/fr/annonces/immo-casablanca/vente-appartements/bd-abdelmoumen/298488',\n",
       " 'https://agenz.ma/fr/annonces/immo-casablanca/vente-appartements/bourgogne-ouest/77321',\n",
       " 'https://agenz.ma/fr/annonces/immo-casablanca/vente-appartements/bd-abdelmoumen/68255',\n",
       " 'https://agenz.ma/fr/annonces/immo-casablanca/vente-appartements/maarif-extension/84125',\n",
       " 'https://agenz.ma/fr/annonces/immo-casablanca/vente-appartements/al-mostakbal/444785',\n",
       " 'https://agenz.ma/fr/annonces/immo-casablanca/vente-appartements/bd-abdelmoumen/771520',\n",
       " 'https://agenz.ma/fr/annonces/immo-casablanca/vente-appartements/les-hopitaux/540675',\n",
       " 'https://agenz.ma/fr/annonces/immo-casablanca/vente-appartements/almaz/26305',\n",
       " 'https://agenz.ma/fr/annonces/immo-casablanca/vente-appartements/roches-noires/155727',\n",
       " 'https://agenz.ma/fr/annonces/immo-casablanca/vente-appartements/les-princesses/731900',\n",
       " 'https://agenz.ma/fr/annonces/immo-casablanca/vente-appartements/bourgogne-ouest/336378',\n",
       " 'https://agenz.ma/fr/annonces/immo-casablanca/vente-appartements/bourgogne-est/780767']"
      ]
     },
     "execution_count": 54,
     "metadata": {},
     "output_type": "execute_result"
    }
   ],
   "source": [
    "property_link = []\n",
    "for i in range(len(cards)):\n",
    "    link = \"https://agenz.ma\" + cards[i].find(\"div\", \"_address_1qcbr_177\").find(\"a\")[\"href\"]\n",
    "    property_link.append(link)\n",
    "\n",
    "property_link"
   ]
  },
  {
   "cell_type": "code",
   "execution_count": null,
   "id": "d76b1c6c",
   "metadata": {},
   "outputs": [
    {
     "data": {
      "text/plain": [
       "25"
      ]
     },
     "execution_count": 57,
     "metadata": {},
     "output_type": "execute_result"
    }
   ],
   "source": [
    "property_links = []\n",
    "for i in range(len(cities_property_link[0:1])):\n",
    "    city_url = cities_property_link[i]\n",
    "    time.sleep(5)\n",
    "    resp = requests.get(city_url)\n",
    "    bs = BeautifulSoup(resp.content, \"html.parser\")\n",
    "    cards = bs.find_all(\"div\", \"_listingCard_1k4wq_1\") \n",
    "    for j in range(len(cards)):\n",
    "        link = \"https://agenz.ma\" + cards[j].find(\"div\", \"_address_1qcbr_177\").find(\"a\")[\"href\"]\n",
    "        property_links.append(link) \n",
    "\n",
    "len(property_links)"
   ]
  },
  {
   "cell_type": "code",
   "execution_count": null,
   "id": "500e1e01",
   "metadata": {},
   "outputs": [],
   "source": []
  }
 ],
 "metadata": {
  "kernelspec": {
   "display_name": "env",
   "language": "python",
   "name": "python3"
  },
  "language_info": {
   "codemirror_mode": {
    "name": "ipython",
    "version": 3
   },
   "file_extension": ".py",
   "mimetype": "text/x-python",
   "name": "python",
   "nbconvert_exporter": "python",
   "pygments_lexer": "ipython3",
   "version": "3.12.7"
  }
 },
 "nbformat": 4,
 "nbformat_minor": 5
}
